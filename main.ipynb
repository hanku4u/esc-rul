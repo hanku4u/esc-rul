{
 "cells": [
  {
   "cell_type": "code",
   "execution_count": 56,
   "id": "017f7f48",
   "metadata": {},
   "outputs": [],
   "source": [
    "import numpy as np\n",
    "import matplotlib.pyplot as plt\n",
    "import pandas as pd\n",
    "from data_generator import SyntheticESCDataGenerator\n",
    "from sklearn.preprocessing import MinMaxScaler\n",
    "import torch\n",
    "import torch.nn as nn\n",
    "from torch.utils.data import Dataset, DataLoader"
   ]
  },
  {
   "cell_type": "code",
   "execution_count": 57,
   "id": "60cf00a9",
   "metadata": {},
   "outputs": [],
   "source": [
    "def generate_synthetic_data(num_chambers: int, records_per_chamber: int) -> pd.DataFrame:\n",
    "    df = pd.DataFrame()\n",
    "    start_time = '2025-07-01 05:00:00'\n",
    "    chamber = \"chamber_1\"\n",
    "    for i in range(num_chambers):\n",
    "        gen = SyntheticESCDataGenerator(chamber=chamber)\n",
    "        psu_df = gen.generate(records_per_chamber, start_time=start_time)\n",
    "        df = pd.concat([df, psu_df], ignore_index=True)\n",
    "        start_time = psu_df['timestamp'].max() + pd.Timedelta(minutes=1)\n",
    "        chamber = f\"chamber_{i+1}\"\n",
    "    return df\n",
    "\n",
    "df_train = generate_synthetic_data(num_chambers=30, records_per_chamber=1000)"
   ]
  },
  {
   "cell_type": "code",
   "execution_count": 58,
   "id": "ee346846",
   "metadata": {},
   "outputs": [],
   "source": [
    "# -------------------------\n",
    "# Dataset preparation\n",
    "# -------------------------\n",
    "class TimeSeriesDataset(Dataset):\n",
    "    def __init__(self, sequences):\n",
    "        self.sequences = sequences\n",
    "\n",
    "    def __len__(self):\n",
    "        return len(self.sequences)\n",
    "\n",
    "    def __getitem__(self, idx):\n",
    "        return self.sequences[idx]\n",
    "\n",
    "\n",
    "def create_sequences(data, seq_length, return_indices=False):\n",
    "    sequences = []\n",
    "    indices = []\n",
    "    for i in range(len(data) - seq_length):\n",
    "        seq = data[i : i + seq_length]\n",
    "        sequences.append(seq)\n",
    "        indices.append(i)\n",
    "    seq_tensor = torch.tensor(np.array(sequences), dtype=torch.float32)\n",
    "    if return_indices:\n",
    "        return seq_tensor, indices\n",
    "    return seq_tensor"
   ]
  },
  {
   "cell_type": "code",
   "execution_count": 59,
   "id": "f10e41a9",
   "metadata": {},
   "outputs": [],
   "source": [
    "# -------------------------\n",
    "# LSTM Autoencoder\n",
    "# -------------------------\n",
    "class LSTMAutoencoder(nn.Module):\n",
    "    def __init__(self, n_features, hidden_size=64, latent_dim=16, num_layers=1):\n",
    "        super(LSTMAutoencoder, self).__init__()\n",
    "        self.encoder = nn.LSTM(\n",
    "            input_size=n_features, hidden_size=hidden_size,\n",
    "            num_layers=num_layers, batch_first=True\n",
    "        )\n",
    "        self.latent = nn.Linear(hidden_size, latent_dim)\n",
    "        self.decoder_input = nn.Linear(latent_dim, hidden_size)\n",
    "        self.decoder = nn.LSTM(\n",
    "            input_size=hidden_size, hidden_size=n_features,\n",
    "            num_layers=num_layers, batch_first=True\n",
    "        )\n",
    "\n",
    "    def forward(self, x):\n",
    "        # Encoder\n",
    "        enc_out, _ = self.encoder(x)\n",
    "        enc_last = enc_out[:, -1, :]          # last hidden state\n",
    "        z = self.latent(enc_last)\n",
    "\n",
    "        # Decoder\n",
    "        dec_in = self.decoder_input(z).unsqueeze(1).repeat(1, x.size(1), 1)\n",
    "        dec_out, _ = self.decoder(dec_in)\n",
    "        return dec_out"
   ]
  },
  {
   "cell_type": "code",
   "execution_count": 60,
   "id": "d098a1d7",
   "metadata": {},
   "outputs": [],
   "source": [
    "# -------------------------\n",
    "# Example Training Script\n",
    "# -------------------------\n",
    "def train_autoencoder(df, seq_length=10, epochs=20, batch_size=32, lr=1e-3, use_gpu=True):\n",
    "    # Keep only numeric columns\n",
    "    numeric_df = df.select_dtypes(include=[np.number])\n",
    "\n",
    "    # Normalize\n",
    "    scaler = MinMaxScaler()\n",
    "    data_scaled = scaler.fit_transform(numeric_df.values)\n",
    "\n",
    "    # Make sequences\n",
    "    sequences = create_sequences(data_scaled, seq_length)\n",
    "    dataset = TimeSeriesDataset(sequences)\n",
    "    dataloader = DataLoader(dataset, batch_size=batch_size, shuffle=True)\n",
    "\n",
    "    # Pick device\n",
    "    device = torch.device(\"cuda\" if (torch.cuda.is_available() and use_gpu) else \"cpu\")\n",
    "    print(f\"Using device: {device}\")\n",
    "\n",
    "    # Model\n",
    "    n_features = numeric_df.shape[1]\n",
    "    model = LSTMAutoencoder(n_features=n_features).to(device)\n",
    "\n",
    "    criterion = nn.MSELoss()\n",
    "    optimizer = torch.optim.Adam(model.parameters(), lr=lr)\n",
    "\n",
    "    # Training loop\n",
    "    for epoch in range(epochs):\n",
    "        total_loss = 0\n",
    "        for batch in dataloader:\n",
    "            batch = batch.to(device)  # move batch to GPU\n",
    "            optimizer.zero_grad()\n",
    "            recon = model(batch)\n",
    "            loss = criterion(recon, batch)\n",
    "            loss.backward()\n",
    "            optimizer.step()\n",
    "            total_loss += loss.item()\n",
    "\n",
    "        avg_loss = total_loss / len(dataloader)\n",
    "        print(f\"Epoch {epoch+1}/{epochs}, Loss: {avg_loss:.6f}\")\n",
    "\n",
    "    return model, scaler, device"
   ]
  },
  {
   "cell_type": "code",
   "execution_count": 61,
   "id": "aa1047d3",
   "metadata": {},
   "outputs": [],
   "source": [
    "# -------------------------\n",
    "# Anomaly Scoring (with metadata)\n",
    "# -------------------------\n",
    "def compute_reconstruction_error(model, scaler, df, seq_length=10, device=\"cpu\"):\n",
    "    \"\"\"\n",
    "    Compute reconstruction error for each sequence and return a dataframe\n",
    "    that includes timestamp, chamber, and reconstruction error.\n",
    "    \"\"\"\n",
    "    numeric_df = df.select_dtypes(include=[np.number])\n",
    "    data_scaled = scaler.transform(numeric_df.values)\n",
    "\n",
    "    sequences, indices = create_sequences(data_scaled, seq_length, return_indices=True)\n",
    "    sequences = sequences.to(device)\n",
    "\n",
    "    with torch.no_grad():\n",
    "        recon = model(sequences)\n",
    "        errors = torch.mean((recon - sequences) ** 2, dim=(1, 2)).cpu().numpy()\n",
    "\n",
    "    # Attach metadata: chamber + timestamp from the sequence start\n",
    "    meta_df = df.iloc[indices].copy()\n",
    "    meta_df[\"reconstruction_error\"] = errors\n",
    "    return meta_df"
   ]
  },
  {
   "cell_type": "code",
   "execution_count": 62,
   "id": "9b404f66",
   "metadata": {},
   "outputs": [],
   "source": [
    "def analyze_reconstruction_errors(errors, percentile=95):\n",
    "    \"\"\"\n",
    "    Plot reconstruction error distribution and compute anomaly threshold.\n",
    "    \n",
    "    Args:\n",
    "        errors (array-like): reconstruction errors from compute_reconstruction_error()\n",
    "        percentile (int): percentile to use for anomaly threshold (default=95)\n",
    "        \n",
    "    Returns:\n",
    "        threshold (float): computed threshold\n",
    "    \"\"\"\n",
    "    errors = np.array(errors)\n",
    "\n",
    "    # Compute threshold\n",
    "    threshold = np.percentile(errors, percentile)\n",
    "\n",
    "    # Plot distribution\n",
    "    plt.figure(figsize=(8,5))\n",
    "    plt.hist(errors, bins=50, alpha=0.7, color=\"steelblue\", edgecolor=\"black\")\n",
    "    plt.axvline(threshold, color=\"red\", linestyle=\"--\", label=f\"{percentile}th percentile = {threshold:.2f}\")\n",
    "    plt.xlabel(\"Reconstruction Error\")\n",
    "    plt.ylabel(\"Count\")\n",
    "    plt.title(\"Distribution of Reconstruction Errors\")\n",
    "    plt.legend()\n",
    "    plt.show()\n",
    "\n",
    "    return threshold\n",
    "\n",
    "\n",
    "def label_anomalies(errors, threshold):\n",
    "    \"\"\"\n",
    "    Label each sequence as normal (0) or anomaly (1).\n",
    "    \"\"\"\n",
    "    return (errors > threshold).astype(int)\n"
   ]
  },
  {
   "cell_type": "code",
   "execution_count": 63,
   "id": "4bcd67c9",
   "metadata": {},
   "outputs": [
    {
     "name": "stdout",
     "output_type": "stream",
     "text": [
      "Using device: cuda\n",
      "Epoch 1/15, Loss: 0.080555\n",
      "Epoch 2/15, Loss: 0.075392\n",
      "Epoch 3/15, Loss: 0.074318\n",
      "Epoch 4/15, Loss: 0.073997\n",
      "Epoch 5/15, Loss: 0.073974\n",
      "Epoch 6/15, Loss: 0.073966\n",
      "Epoch 7/15, Loss: 0.073959\n",
      "Epoch 8/15, Loss: 0.073954\n",
      "Epoch 9/15, Loss: 0.073883\n",
      "Epoch 10/15, Loss: 0.073739\n",
      "Epoch 11/15, Loss: 0.073690\n",
      "Epoch 12/15, Loss: 0.073540\n",
      "Epoch 13/15, Loss: 0.073396\n",
      "Epoch 14/15, Loss: 0.073345\n",
      "Epoch 15/15, Loss: 0.073175\n"
     ]
    }
   ],
   "source": [
    "# 1. Train model on training data\n",
    "model, scaler, device = train_autoencoder(df_train, seq_length=20, epochs=15)"
   ]
  },
  {
   "cell_type": "code",
   "execution_count": 64,
   "id": "fd3d398a",
   "metadata": {},
   "outputs": [],
   "source": [
    "# 2. Compute reconstruction errors on training set\n",
    "train_results = compute_reconstruction_error(model, scaler, df_train, seq_length=20, device=device)\n",
    "train_errors = train_results[\"reconstruction_error\"].values"
   ]
  },
  {
   "cell_type": "code",
   "execution_count": 65,
   "id": "0ad5054d",
   "metadata": {},
   "outputs": [
    {
     "data": {
      "image/png": "[encoded data removed]",
      "text/plain": [
       "<Figure size 800x500 with 1 Axes>"
      ]
     },
     "metadata": {},
     "output_type": "display_data"
    },
    {
     "name": "stdout",
     "output_type": "stream",
     "text": [
      "Anomaly threshold: 0.081242345\n"
     ]
    }
   ],
   "source": [
    "# 3. Analyze training errors & get threshold\n",
    "threshold = analyze_reconstruction_errors(train_errors, percentile=95)\n",
    "print(\"Anomaly threshold:\", threshold)"
   ]
  },
  {
   "cell_type": "code",
   "execution_count": 66,
   "id": "89eaa8d9",
   "metadata": {},
   "outputs": [],
   "source": [
    "# 4. Test on new data\n",
    "df_test = generate_synthetic_data(num_chambers=10, records_per_chamber=1000)\n",
    "test_results = compute_reconstruction_error(model, scaler, df_test, seq_length=20, device=device)"
   ]
  },
  {
   "cell_type": "code",
   "execution_count": 67,
   "id": "92079c20",
   "metadata": {},
   "outputs": [
    {
     "name": "stdout",
     "output_type": "stream",
     "text": [
      "              timestamp    chamber  reconstruction_error\n",
      "119 2025-07-01 05:01:59  chamber_1              0.081259\n",
      "124 2025-07-01 05:02:04  chamber_1              0.081742\n",
      "125 2025-07-01 05:02:05  chamber_1              0.083229\n",
      "126 2025-07-01 05:02:06  chamber_1              0.083228\n",
      "127 2025-07-01 05:02:07  chamber_1              0.082118\n"
     ]
    }
   ],
   "source": [
    "# 5. Label anomalies\n",
    "test_results[\"anomaly\"] = (test_results[\"reconstruction_error\"] > threshold).astype(int)\n",
    "\n",
    "# Show anomalies by chamber\n",
    "print(test_results[test_results[\"anomaly\"] == 1][[\"timestamp\", \"chamber\", \"reconstruction_error\"]].head())"
   ]
  },
  {
   "cell_type": "code",
   "execution_count": null,
   "id": "8106dffa",
   "metadata": {},
   "outputs": [],
   "source": [
    "test_results"
   ]
  },
  {
   "cell_type": "code",
   "execution_count": null,
   "id": "b9b245da",
   "metadata": {},
   "outputs": [],
   "source": []
  },
  {
   "cell_type": "code",
   "execution_count": null,
   "id": "74e7c4b8",
   "metadata": {},
   "outputs": [],
   "source": []
  }
 ],
 "metadata": {
  "kernelspec": {
   "display_name": ".venv",
   "language": "python",
   "name": "python3"
  },
  "language_info": {
   "codemirror_mode": {
    "name": "ipython",
    "version": 3
   },
   "file_extension": ".py",
   "mimetype": "text/x-python",
   "name": "python",
   "nbconvert_exporter": "python",
   "pygments_lexer": "ipython3",
   "version": "3.13.5"
  }
 },
 "nbformat": 4,
 "nbformat_minor": 5
}
